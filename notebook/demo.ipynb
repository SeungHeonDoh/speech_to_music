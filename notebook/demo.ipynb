{
 "cells": [
  {
   "cell_type": "code",
   "execution_count": 13,
   "id": "431e624b",
   "metadata": {},
   "outputs": [],
   "source": [
    "import os\n",
    "import torch\n",
    "import numpy as np\n",
    "import pandas as pd\n",
    "import IPython.display as ipd\n",
    "from IPython.display import Audio, HTML\n",
    "from sklearn.metrics.pairwise import cosine_similarity\n",
    "from argparse import ArgumentParser, Namespace, ArgumentTypeError\n",
    "from speech_to_music.preprocessing.audio_utils import load_audio\n",
    "from speech_to_music.metric_learning.infer import load_audio_backbone, load_music_backbone, projection_model"
   ]
  },
  {
   "cell_type": "code",
   "execution_count": 2,
   "id": "1aaac694",
   "metadata": {},
   "outputs": [],
   "source": [
    "parser = ArgumentParser()\n",
    "parser.add_argument(\"--root\", default=\"../\", type=str)\n",
    "parser.add_argument(\"--inference_type\", default=\"speech_extractor\", type=str)\n",
    "parser.add_argument(\"--branch_type\", default=\"3branch\", type=str)\n",
    "parser.add_argument(\"--fusion_type\", default=\"audio\", type=str)\n",
    "parser.add_argument(\"--word_model\", default=\"glove\", type=str)\n",
    "parser.add_argument(\"--freeze_type\", default=\"feature\", type=str)\n",
    "parser.add_argument(\"--is_augmentation\", default=False, type=bool)\n",
    "parser.add_argument(\"--gpus\", default=[0], type=list)\n",
    "parser.add_argument(\"--reproduce\", default=True, type=bool)\n",
    "args = parser.parse_args([])"
   ]
  },
  {
   "cell_type": "markdown",
   "id": "6002c1c2",
   "metadata": {},
   "source": [
    "## Load model"
   ]
  },
  {
   "cell_type": "code",
   "execution_count": 14,
   "id": "4f4ad6d7",
   "metadata": {},
   "outputs": [],
   "source": [
    "audio_backbone = load_audio_backbone(args)\n",
    "music_backbone = load_music_backbone(args)\n",
    "joint_backbone = projection_model(args)"
   ]
  },
  {
   "cell_type": "code",
   "execution_count": 4,
   "id": "8bc44ee2",
   "metadata": {},
   "outputs": [],
   "source": [
    "df_speech = pd.read_csv(\"../dataset/split/IEMOCAP/test.csv\", index_col=0)\n",
    "df_music = pd.read_csv(\"../dataset/split/Audioset/test.csv\", index_col=0)"
   ]
  },
  {
   "cell_type": "markdown",
   "id": "27cb3a94",
   "metadata": {},
   "source": [
    "# Music Embedding Database"
   ]
  },
  {
   "cell_type": "code",
   "execution_count": 60,
   "id": "6e7a2c70",
   "metadata": {},
   "outputs": [],
   "source": [
    "DEVICE = \"cuda:0\"\n",
    "music_samples = {}\n",
    "music_embs = []\n",
    "for fname in df_music.index:\n",
    "    music_wav = np.load(os.path.join(\"../dataset/feature/Audioset/npy\", fname + \".npy\"))\n",
    "    audio = torch.from_numpy(music_wav)\n",
    "    with torch.no_grad():\n",
    "        audio_emb = music_backbone.model.extractor(audio.unsqueeze(0).to(DEVICE))\n",
    "        audio_emb = joint_backbone.model.music_mlp(audio_emb)\n",
    "    music_embs.append(audio_emb.squeeze(0).detach().cpu().numpy())\n",
    "    music_samples[fname] = {\n",
    "        \"fname\": fname,\n",
    "        \"wav\": music_wav,\n",
    "        \"label\": df_music.loc[fname].idxmax()\n",
    "    }"
   ]
  },
  {
   "cell_type": "markdown",
   "id": "37b79bf7",
   "metadata": {},
   "source": [
    "# Speech Embedding"
   ]
  },
  {
   "cell_type": "code",
   "execution_count": 101,
   "id": "dd2d18fc",
   "metadata": {},
   "outputs": [],
   "source": [
    "speech_samples = {}\n",
    "speech_embs = []\n",
    "for label in df_speech.columns:\n",
    "    fname = df_speech[df_speech[label] == 1].sample(1).index[0]\n",
    "    speech_wav = np.load(os.path.join(\"../dataset/feature/IEMOCAP/npy\", fname + \".npy\"))\n",
    "    audio = torch.from_numpy(speech_wav)\n",
    "    with torch.no_grad():\n",
    "        embs = audio_backbone.model.pooling_extractor(audio.to(DEVICE))\n",
    "        embs = joint_backbone.model.speech_audio_mlp(embs)\n",
    "    speech_embs.append(embs.squeeze(0).detach().cpu().numpy())\n",
    "    speech_samples[fname] = {\n",
    "        \"fname\": fname,\n",
    "        \"wav\": speech_wav,\n",
    "        \"label\": label\n",
    "    }"
   ]
  },
  {
   "cell_type": "code",
   "execution_count": 102,
   "id": "f9d539d2",
   "metadata": {},
   "outputs": [],
   "source": [
    "speech_embs = np.stack(speech_embs)\n",
    "music_embs = np.stack(music_embs)"
   ]
  },
  {
   "cell_type": "code",
   "execution_count": 103,
   "id": "baaf4d58",
   "metadata": {},
   "outputs": [],
   "source": [
    "sim_matrix = cosine_similarity(speech_embs, music_embs)\n",
    "df_sim = pd.DataFrame(sim_matrix, index=speech_samples.keys(), columns=music_samples.keys())"
   ]
  },
  {
   "cell_type": "code",
   "execution_count": 109,
   "id": "f1c77ac0",
   "metadata": {},
   "outputs": [
    {
     "data": {
      "text/html": [
       "<div>\n",
       "<style scoped>\n",
       "    .dataframe tbody tr th:only-of-type {\n",
       "        vertical-align: middle;\n",
       "    }\n",
       "\n",
       "    .dataframe tbody tr th {\n",
       "        vertical-align: top;\n",
       "    }\n",
       "\n",
       "    .dataframe thead th {\n",
       "        text-align: right;\n",
       "    }\n",
       "</style>\n",
       "<table border=\"1\" class=\"dataframe\">\n",
       "  <thead>\n",
       "    <tr style=\"text-align: right;\">\n",
       "      <th></th>\n",
       "      <th>Ses05F_impro05_F023</th>\n",
       "      <th>Ses05M_impro03_M010</th>\n",
       "      <th>Ses05M_script01_2_M001</th>\n",
       "      <th>Ses05F_script01_3_F006</th>\n",
       "    </tr>\n",
       "  </thead>\n",
       "  <tbody>\n",
       "    <tr>\n",
       "      <th>WO_Y7djT2k4</th>\n",
       "      <td>0.713043</td>\n",
       "      <td>-0.490283</td>\n",
       "      <td>-0.354062</td>\n",
       "      <td>-0.427027</td>\n",
       "    </tr>\n",
       "    <tr>\n",
       "      <th>cCyfADwHiWs</th>\n",
       "      <td>0.752776</td>\n",
       "      <td>-0.646087</td>\n",
       "      <td>-0.358029</td>\n",
       "      <td>-0.300436</td>\n",
       "    </tr>\n",
       "    <tr>\n",
       "      <th>OaV-ZyjNDFE</th>\n",
       "      <td>-0.270472</td>\n",
       "      <td>-0.118214</td>\n",
       "      <td>-0.145704</td>\n",
       "      <td>0.446434</td>\n",
       "    </tr>\n",
       "    <tr>\n",
       "      <th>EaGhKzpkNso</th>\n",
       "      <td>0.200053</td>\n",
       "      <td>0.388821</td>\n",
       "      <td>-0.098282</td>\n",
       "      <td>-0.685633</td>\n",
       "    </tr>\n",
       "    <tr>\n",
       "      <th>S_Z7o4OmU30</th>\n",
       "      <td>-0.461797</td>\n",
       "      <td>0.512140</td>\n",
       "      <td>-0.020668</td>\n",
       "      <td>0.041813</td>\n",
       "    </tr>\n",
       "  </tbody>\n",
       "</table>\n",
       "</div>"
      ],
      "text/plain": [
       "             Ses05F_impro05_F023  Ses05M_impro03_M010  Ses05M_script01_2_M001  \\\n",
       "WO_Y7djT2k4             0.713043            -0.490283               -0.354062   \n",
       "cCyfADwHiWs             0.752776            -0.646087               -0.358029   \n",
       "OaV-ZyjNDFE            -0.270472            -0.118214               -0.145704   \n",
       "EaGhKzpkNso             0.200053             0.388821               -0.098282   \n",
       "S_Z7o4OmU30            -0.461797             0.512140               -0.020668   \n",
       "\n",
       "             Ses05F_script01_3_F006  \n",
       "WO_Y7djT2k4               -0.427027  \n",
       "cCyfADwHiWs               -0.300436  \n",
       "OaV-ZyjNDFE                0.446434  \n",
       "EaGhKzpkNso               -0.685633  \n",
       "S_Z7o4OmU30                0.041813  "
      ]
     },
     "execution_count": 109,
     "metadata": {},
     "output_type": "execute_result"
    }
   ],
   "source": [
    "df_sim.T.head() # Audioset(target) x IEMOCAP(query)"
   ]
  },
  {
   "cell_type": "markdown",
   "id": "801bab62",
   "metadata": {},
   "source": [
    "# Nearest Neighbor Search"
   ]
  },
  {
   "cell_type": "code",
   "execution_count": 104,
   "id": "3c18628b",
   "metadata": {},
   "outputs": [],
   "source": [
    "def demo(df_sim, speech_samples, music_samples, audio_viz=False):\n",
    "    html_items = []\n",
    "    for speech_fname in df_sim.index:\n",
    "        instance = {}\n",
    "        item = df_sim.loc[speech_fname]\n",
    "        top3_music = item.sort_values(ascending=False).head(3).index\n",
    "        audio_obj = ipd.Audio(speech_samples[speech_fname]['wav'], rate=16000)\n",
    "        instance['speech'] = speech_fname \n",
    "        instance['speech_emotion'] = speech_samples[speech_fname]['label']\n",
    "        speech_src = audio_obj.src_attr()\n",
    "        if audio_viz:\n",
    "            instance['speech_wav'] = f\"\"\"<audio controls><source src=\"{speech_src}\" type=\"audio/wav\"></audio></td>\"\"\"            \n",
    "        for idx, music_fname in enumerate(top3_music):\n",
    "            music_obj = ipd.Audio(music_samples[music_fname]['wav'], rate=22050)\n",
    "            music_src = music_obj.src_attr()\n",
    "            if audio_viz:\n",
    "                instance[f'top{idx+1} music'] = f\"\"\"<audio controls><source src=\"{music_src}\" type=\"audio/wav\"></audio></td>\"\"\"\n",
    "            else:\n",
    "                instance[f'top{idx+1} music'] = music_samples[music_fname]['label']\n",
    "        html_items.append(instance)\n",
    "    df = pd.DataFrame(html_items).set_index(\"speech\")\n",
    "    html = df.to_html(escape=False)\n",
    "    ipd.display(HTML(html))"
   ]
  },
  {
   "cell_type": "code",
   "execution_count": 105,
   "id": "dc41c3d9",
   "metadata": {},
   "outputs": [
    {
     "data": {
      "text/html": [
       "<table border=\"1\" class=\"dataframe\">\n",
       "  <thead>\n",
       "    <tr style=\"text-align: right;\">\n",
       "      <th></th>\n",
       "      <th>speech_emotion</th>\n",
       "      <th>top1 music</th>\n",
       "      <th>top2 music</th>\n",
       "      <th>top3 music</th>\n",
       "    </tr>\n",
       "    <tr>\n",
       "      <th>speech</th>\n",
       "      <th></th>\n",
       "      <th></th>\n",
       "      <th></th>\n",
       "      <th></th>\n",
       "    </tr>\n",
       "  </thead>\n",
       "  <tbody>\n",
       "    <tr>\n",
       "      <th>Ses05F_impro05_F023</th>\n",
       "      <td>angry</td>\n",
       "      <td>scary</td>\n",
       "      <td>angry</td>\n",
       "      <td>angry</td>\n",
       "    </tr>\n",
       "    <tr>\n",
       "      <th>Ses05M_impro03_M010</th>\n",
       "      <td>happy</td>\n",
       "      <td>happy</td>\n",
       "      <td>happy</td>\n",
       "      <td>happy</td>\n",
       "    </tr>\n",
       "    <tr>\n",
       "      <th>Ses05M_script01_2_M001</th>\n",
       "      <td>neutral</td>\n",
       "      <td>noise</td>\n",
       "      <td>noise</td>\n",
       "      <td>noise</td>\n",
       "    </tr>\n",
       "    <tr>\n",
       "      <th>Ses05F_script01_3_F006</th>\n",
       "      <td>sad</td>\n",
       "      <td>sad</td>\n",
       "      <td>sad</td>\n",
       "      <td>sad</td>\n",
       "    </tr>\n",
       "  </tbody>\n",
       "</table>"
      ],
      "text/plain": [
       "<IPython.core.display.HTML object>"
      ]
     },
     "metadata": {},
     "output_type": "display_data"
    }
   ],
   "source": [
    "demo(df_sim, speech_samples, music_samples, audio_viz=False)"
   ]
  },
  {
   "cell_type": "code",
   "execution_count": 107,
   "id": "2dfc20c8",
   "metadata": {},
   "outputs": [],
   "source": [
    "# demo(df_sim, speech_samples, music_samples, audio_viz=True)"
   ]
  },
  {
   "cell_type": "code",
   "execution_count": null,
   "id": "2b763164",
   "metadata": {},
   "outputs": [],
   "source": []
  },
  {
   "cell_type": "code",
   "execution_count": null,
   "id": "7d110d67",
   "metadata": {},
   "outputs": [],
   "source": []
  }
 ],
 "metadata": {
  "kernelspec": {
   "display_name": "Python 3 (ipykernel)",
   "language": "python",
   "name": "python3"
  },
  "language_info": {
   "codemirror_mode": {
    "name": "ipython",
    "version": 3
   },
   "file_extension": ".py",
   "mimetype": "text/x-python",
   "name": "python",
   "nbconvert_exporter": "python",
   "pygments_lexer": "ipython3",
   "version": "3.8.0"
  }
 },
 "nbformat": 4,
 "nbformat_minor": 5
}
